{
  "nbformat": 4,
  "nbformat_minor": 0,
  "metadata": {
    "colab": {
      "provenance": [],
      "toc_visible": true
    },
    "kernelspec": {
      "name": "python3",
      "display_name": "Python 3"
    },
    "language_info": {
      "name": "python"
    }
  },
  "cells": [
    {
      "cell_type": "markdown",
      "metadata": {
        "id": "60b413d1"
      },
      "source": [
        "# Guía Práctica para la Gobernanza de la IA y el Combate al Sesgo Algorítmico 🛡️\n",
        "\n",
        "En esta guía práctica, vamos a **probar** los conceptos clave que exploramos en clase sobre la **Gobernanza de la IA**, el insidioso **sesgo algorítmico** y la **importancia fundamental de los datos y su metadata**.\n",
        "\n",
        "Prepárate para **ejecutar este código** y sumergirte en el proceso:\n",
        "*   Verás cómo se **generan datos sintéticos** (¡incluso introduciremos un sesgo intencional para aprender de forma práctica!).\n",
        "*   Descubrirás la vital importancia de **documentar todo con metadata**.\n",
        "\n",
        "Entender y aplicar estos conceptos es **clave** para construir proyectos de IA que sean verdaderamente **justos, transparentes y responsables**.\n",
        "\n",
        "**Hilo Conductor:** \"Sesgos Algorítmicos: ¿Cómo los detectamos y combatimos desde la base? La Gobernanza de la IA empieza en los datos.\""
      ]
    },
    {
      "cell_type": "code",
      "execution_count": 27,
      "metadata": {
        "colab": {
          "base_uri": "https://localhost:8080/"
        },
        "id": "jgAX64vpU6dC",
        "outputId": "1e0e3e5f-7425-4a74-f7ec-9d86917c612f"
      },
      "outputs": [
        {
          "output_type": "stream",
          "name": "stdout",
          "text": [
            "Librerías instaladas correctamente. ¡Listos para empezar!\n"
          ]
        }
      ],
      "source": [
        "# Paso 1: Instalamos las librerías necesarias\n",
        "# Si no las tenés instaladas en tu entorno de Colab, este comando las instala.\n",
        "\n",
        "!pip install Faker pandas -q\n",
        "\n",
        "print(\"Librerías instaladas correctamente. ¡Listos para empezar!\")"
      ]
    },
    {
      "cell_type": "code",
      "source": [
        "# Paso 2: Importamos lo que vamos a usar\n",
        "# Faker: Para generar datos falsos (sintéticos) pero con aspecto real.\n",
        "# pandas: Para manejar los datos en un formato de tabla (DataFrame).\n",
        "# json: Para trabajar con la metadata en formato JSON, que es un estándar para intercambiar información.\n",
        "\n",
        "from faker import Faker\n",
        "import pandas as pd\n",
        "import random\n",
        "import json\n",
        "import datetime\n",
        "\n",
        "print(\"Librerías importadas.\")"
      ],
      "metadata": {
        "colab": {
          "base_uri": "https://localhost:8080/"
        },
        "id": "p-lCu4OAVLC3",
        "outputId": "0c441abe-b582-4d30-9453-39b1fbaeaddc"
      },
      "execution_count": 28,
      "outputs": [
        {
          "output_type": "stream",
          "name": "stdout",
          "text": [
            "Librerías importadas.\n"
          ]
        }
      ]
    },
    {
      "cell_type": "code",
      "source": [
        "# Paso 3: Inicializamos Faker\n",
        "# Acá le decimos a Faker que genere datos con estilo argentino (es_AR).\n",
        "# Esto es genial para que los ejemplos se sientan más cercanos.\n",
        "\n",
        "fake = Faker('es_AR')\n",
        "\n",
        "print(f\"Faker inicializado con locale '{fake.locale}'.\")"
      ],
      "metadata": {
        "colab": {
          "base_uri": "https://localhost:8080/"
        },
        "id": "M9BLA46jVS-g",
        "outputId": "1ca6e861-9062-48f0-ff95-d67ab1ea2b6e"
      },
      "execution_count": 29,
      "outputs": [
        {
          "output_type": "stream",
          "name": "stdout",
          "text": [
            "Faker inicializado con locale '<bound method BaseProvider.locale of <faker.providers.user_agent.Provider object at 0x7b3ffa7bf7d0>>'.\n"
          ]
        }
      ]
    },
    {
      "cell_type": "markdown",
      "metadata": {
        "id": "8c9673ae"
      },
      "source": [
        "# Módulo 1: Generación de Datos Sintéticos con Sesgo Intencional\n",
        "\n",
        "Acá vamos a crear un dataset sintético de \"empleados\".\n",
        "¿Te acordás el caso de Amazon y el sesgo en la contratación?\n",
        "\n",
        "Para que veas cómo se cuela un sesgo en los datos, vamos a introducir uno intencionalmente en el campo `genero_reportado`. Vamos a hacer que haya un 70% de hombres y un 30% de mujeres para esta demo.\n",
        "\n",
        "*   Esto simula un \"sesgo de proporción\" o \"sesgo histórico\" que podríamos encontrar en datos reales si, por ejemplo, una empresa históricamente contrató más hombres para ciertos roles."
      ]
    },
    {
      "cell_type": "code",
      "source": [
        "num_records = 50 # Un buen número para la demo\n",
        "\n",
        "data_empleados = []\n",
        "roles_disponibles = ['Desarrollador', 'Gerente de Proyectos', 'Analista de Datos', 'Diseñador UX', 'Especialista de RRHH', 'Contador', 'Asistente Administrativo']\n",
        "departamentos_disponibles = ['IT', 'Ventas', 'Marketing', 'Finanzas', 'RRHH', 'Operaciones']\n",
        "\n",
        "# Definimos una distribución sesgada para el género: 70% Masculino, 30% Femenino\n",
        "# Esto se hace repitiendo 'Masculino' 7 veces y 'Femenino' 3 veces en la lista.\n",
        "generos_con_sesgo = ['Masculino'] * 7 + ['Femenino'] * 3\n",
        "\n",
        "print(f\"Generando {num_records} registros de empleados. Atento al sesgo de género intencional.\")"
      ],
      "metadata": {
        "colab": {
          "base_uri": "https://localhost:8080/"
        },
        "id": "e9FdGuqQV0yR",
        "outputId": "268bc466-d64b-47ed-b1ff-18ddb82dcc53"
      },
      "execution_count": 30,
      "outputs": [
        {
          "output_type": "stream",
          "name": "stdout",
          "text": [
            "Generando 50 registros de empleados. Atento al sesgo de género intencional.\n"
          ]
        }
      ]
    },
    {
      "cell_type": "code",
      "source": [
        "for i in range(num_records):\n",
        "    # Elegimos el género según nuestra distribución sesgada\n",
        "    genero_elegido = random.choice(generos_con_sesgo)\n",
        "\n",
        "    # Asignamos el nombre según el género\n",
        "    if genero_elegido == 'Masculino':\n",
        "        nombre = fake.first_name_male()\n",
        "    elif genero_elegido == 'Femenino':\n",
        "        nombre = fake.first_name_female()\n",
        "    else: # Por si agregamos más géneros en el futuro\n",
        "        nombre = fake.first_name()\n",
        "\n",
        "    data_empleados.append({\n",
        "        'id_empleado': fake.unique.uuid4(), # ID único\n",
        "        'nombre': nombre,\n",
        "        'apellido': fake.last_name(),\n",
        "        'genero_reportado': genero_elegido, # Campo con el sesgo\n",
        "        'rol': random.choice(roles_disponibles),\n",
        "        'salario': round(random.uniform(70000, 250000), 2), # Salarios aleatorios\n",
        "        'departamento': random.choice(departamentos_disponibles),\n",
        "        'fecha_contratacion': fake.date_this_decade() # Fecha dentro de los últimos 10 años\n",
        "    })\n",
        "\n",
        "# Convertimos la lista de diccionarios a un DataFrame de Pandas para un manejo más fácil\n",
        "df_empleados = pd.DataFrame(data_empleados)\n",
        "\n",
        "print(\"\\n--- Dataset Sintético de Empleados Generado ---\")"
      ],
      "metadata": {
        "colab": {
          "base_uri": "https://localhost:8080/"
        },
        "id": "qTBY-lZFV5Vm",
        "outputId": "ebe179ea-faa6-4f20-d455-3e1f51a84446"
      },
      "execution_count": 31,
      "outputs": [
        {
          "output_type": "stream",
          "name": "stdout",
          "text": [
            "\n",
            "--- Dataset Sintético de Empleados Generado ---\n"
          ]
        }
      ]
    },
    {
      "cell_type": "code",
      "source": [
        "# Mostramos las primeras filas para que vean cómo quedó\n",
        "print(df_empleados.head())\n",
        "\n",
        "print(\"\\n--- Distribución del Género Reportado (¡Atento al Sesgo!) ---\")\n",
        "# Contamos cuántos registros hay de cada género para confirmar el sesgo\n",
        "print(df_empleados['genero_reportado'].value_counts())\n",
        "\n",
        "print(\"\\nFijate que el campo 'genero_reportado' muestra un desbalance. Esto es un SESGO DE PROPORCIÓN, similar al que pudo haber existido en los datos de Amazon.\")"
      ],
      "metadata": {
        "colab": {
          "base_uri": "https://localhost:8080/"
        },
        "id": "QMLf6u6XV8qo",
        "outputId": "d3a1b920-de4c-4ec0-8b05-46ffc3d04c45"
      },
      "execution_count": 32,
      "outputs": [
        {
          "output_type": "stream",
          "name": "stdout",
          "text": [
            "                            id_empleado       nombre  apellido  \\\n",
            "0  0bf9aefe-5a22-4b41-abd9-424c272c9e6b       Thiago      Diaz   \n",
            "1  96d11b61-6402-424e-8ef4-909424aa0d56  Juan Manuel      Ruiz   \n",
            "2  bbd7ac48-a7a7-4fb1-a67c-43c9eedc9588     Benjamin     Ayala   \n",
            "3  be305078-5166-4ae3-9cc3-c61e2e34fe9f     Bautista      Sosa   \n",
            "4  107f8cfd-8ee5-4c9c-aaea-f8324815b20d     Isabella  Gonzalez   \n",
            "\n",
            "  genero_reportado                   rol    salario departamento  \\\n",
            "0        Masculino  Especialista de RRHH  183282.07    Marketing   \n",
            "1        Masculino              Contador  179546.51  Operaciones   \n",
            "2        Masculino  Especialista de RRHH  127671.89    Marketing   \n",
            "3        Masculino         Desarrollador  205761.86       Ventas   \n",
            "4         Femenino  Especialista de RRHH   99415.62  Operaciones   \n",
            "\n",
            "  fecha_contratacion  \n",
            "0         2023-04-07  \n",
            "1         2021-01-24  \n",
            "2         2022-03-09  \n",
            "3         2024-04-11  \n",
            "4         2021-07-29  \n",
            "\n",
            "--- Distribución del Género Reportado (¡Atento al Sesgo!) ---\n",
            "genero_reportado\n",
            "Masculino    38\n",
            "Femenino     12\n",
            "Name: count, dtype: int64\n",
            "\n",
            "Fijate que el campo 'genero_reportado' muestra un desbalance. Esto es un SESGO DE PROPORCIÓN, similar al que pudo haber existido en los datos de Amazon.\n"
          ]
        }
      ]
    },
    {
      "cell_type": "markdown",
      "metadata": {
        "id": "ca98322a"
      },
      "source": [
        "# Módulo 2: Creación de Metadata para Nuestro Dataset\n",
        "\n",
        "Ahora que tenemos nuestro dataset sintético, vamos a crear su metadata.\n",
        "La metadata es el \"ADN\" del dataset. Nos dice todo sobre él: de dónde viene, qué contiene, ¡y crucialmente, qué sesgos conocidos tiene!\n",
        "Sin metadata, es como tener una caja llena de cosas sin etiqueta: no sabés qué hay ni si es seguro usarlo.\n",
        "Esta metadata es clave para la GOBERNANZA:\n",
        "\n",
        "*   **Transparencia:** Cualquier persona puede entender el dataset.\n",
        "*   **Trazabilidad:** Saber el origen y las transformaciones.\n",
        "*   **Detección de Sesgos:** Documentar explícitamente los sesgos conocidos (¡como el que acabamos de crear!).\n",
        "*   **Rendición de Cuentas:** Si hay un problema, podemos rastrear la fuente."
      ]
    },
    {
      "cell_type": "code",
      "source": [
        "metadata_empleados = {\n",
        "    \"nombre_dataset\": \"empleados_sinteticos_demo_sesgo_genero\",\n",
        "    \"descripcion\": \"Dataset de perfiles de empleados generado sintéticamente para fines educativos y demostración de sesgo algorítmico. NO CONTIENE DATOS REALES.\",\n",
        "    \"fuente_datos\": {\n",
        "        \"tipo\": \"Sintético\",\n",
        "        \"herramienta\": \"Faker vX.Y.Z (reemplazar X.Y.Z por la versión usada)\",\n",
        "        \"locale_faker\": \"es_AR\",\n",
        "        \"metodo_generacion\": \"Generación aleatoria de campos con distribución de género ajustada intencionalmente (70% Masculino / 30% Femenino).\"\n",
        "    },\n",
        "    \"fecha_creacion\": datetime.datetime.now().strftime(\"%Y-%m-%d %H:%M:%S\"),\n",
        "    \"ultima_modificacion\": datetime.datetime.now().strftime(\"%Y-%m-%d %H:%M:%S\"),\n",
        "    \"version\": \"1.0\",\n",
        "    \"licencia_uso\": \"Solo para fines educativos, investigación y desarrollo interno. NO para uso productivo o comercial. No usar para inferir patrones reales de empleo.\"\n",
        "}"
      ],
      "metadata": {
        "id": "9OfVSJCaWfNJ"
      },
      "execution_count": 33,
      "outputs": []
    },
    {
      "cell_type": "code",
      "source": [
        "metadata_empleados[\"columnas\"] = [\n",
        "    {\n",
        "        \"nombre\": \"id_empleado\",\n",
        "        \"tipo\": \"string (UUID)\",\n",
        "        \"descripcion\": \"Identificador único de cada empleado. Generado aleatoriamente.\",\n",
        "        \"sensibilidad\": \"Baja (sintético, no real)\",\n",
        "        \"ejemplo_valor\": df_empleados['id_empleado'].iloc[0]\n",
        "    },\n",
        "    {\n",
        "        \"nombre\": \"nombre\",\n",
        "        \"tipo\": \"string\",\n",
        "        \"descripcion\": \"Nombre de pila del empleado. Generado aleatoriamente según el género asignado.\",\n",
        "        \"sensibilidad\": \"Baja (sintético, no real)\",\n",
        "        \"ejemplo_valor\": df_empleados['nombre'].iloc[0]\n",
        "    },\n",
        "    {\n",
        "        \"nombre\": \"apellido\",\n",
        "        \"tipo\": \"string\",\n",
        "        \"descripcion\": \"Apellido del empleado. Generado aleatoriamente.\",\n",
        "        \"sensibilidad\": \"Baja (sintético, no real)\",\n",
        "        \"ejemplo_valor\": df_empleados['apellido'].iloc[0]\n",
        "    },\n",
        "    {\n",
        "        \"nombre\": \"genero_reportado\",\n",
        "        \"tipo\": \"string\",\n",
        "        \"descripcion\": \"Género autodeclarado del empleado. Campo con sesgo intencional para demostración.\",\n",
        "        \"sensibilidad\": \"Media (si fuera real, sería un dato personal sensible)\",\n",
        "        \"procesamiento\": \"Seleccionado aleatoriamente de ['Masculino', 'Femenino'] con probabilidad de 70% y 30% respectivamente.\",\n",
        "        \"distribucion_observada\": df_empleados['genero_reportado'].value_counts().to_dict(),\n",
        "        \"advertencia_sesgo_campo\": \"Este campo introduce un sesgo de género en el dataset. Si se usa para entrenamiento de modelos, el modelo podría aprender a favorecer implícitamente al grupo mayoritario ('Masculino').\"\n",
        "    }\n",
        "]"
      ],
      "metadata": {
        "id": "NVIVLdm5WiOR"
      },
      "execution_count": 34,
      "outputs": []
    },
    {
      "cell_type": "code",
      "source": [
        "# Continuamos con el resto de columnas\n",
        "metadata_empleados[\"columnas\"].extend([\n",
        "    {\n",
        "        \"nombre\": \"rol\",\n",
        "        \"tipo\": \"string\",\n",
        "        \"descripcion\": \"Rol laboral del empleado en la empresa.\",\n",
        "        \"sensibilidad\": \"Baja\",\n",
        "        \"ejemplo_valor\": df_empleados['rol'].iloc[0]\n",
        "    },\n",
        "    {\n",
        "        \"nombre\": \"salario\",\n",
        "        \"tipo\": \"float\",\n",
        "        \"descripcion\": \"Salario anual del empleado en moneda local.\",\n",
        "        \"sensibilidad\": \"Media (si fuera real, dato personal)\",\n",
        "        \"ejemplo_valor\": df_empleados['salario'].iloc[0]\n",
        "    },\n",
        "    {\n",
        "        \"nombre\": \"departamento\",\n",
        "        \"tipo\": \"string\",\n",
        "        \"descripcion\": \"Departamento al que pertenece el empleado.\",\n",
        "        \"sensibilidad\": \"Baja\",\n",
        "        \"ejemplo_valor\": df_empleados['departamento'].iloc[0]\n",
        "    },\n",
        "    {\n",
        "        \"nombre\": \"fecha_contratacion\",\n",
        "        \"tipo\": \"date\",\n",
        "        \"descripcion\": \"Fecha en que el empleado fue contratado.\",\n",
        "        \"sensibilidad\": \"Baja\",\n",
        "        \"ejemplo_valor\": str(df_empleados['fecha_contratacion'].iloc[0])\n",
        "    }\n",
        "])"
      ],
      "metadata": {
        "id": "KAQ9GzYuWlLi"
      },
      "execution_count": 35,
      "outputs": []
    },
    {
      "cell_type": "code",
      "source": [
        "# Agregamos la información crítica sobre sesgos conocidos\n",
        "metadata_empleados[\"sesgos_conocidos_dataset\"] = [\n",
        "    {\n",
        "        \"tipo_sesgo\": \"Sesgo de Proporción / Desbalance de Clase\",\n",
        "        \"campo_afectado\": \"genero_reportado\",\n",
        "        \"descripcion\": \"La distribución de género en este dataset está *intencionalmente desbalanceada* (aproximadamente 70% hombres, 30% mujeres) para fines de demostración. Esto simula cómo un sesgo histórico o de muestreo en datos reales podría influir en un modelo.\",\n",
        "        \"impacto_potencial\": \"Un modelo de aprendizaje automático (ej. para contratación, desempeño o promoción) entrenado con este dataset podría desarrollar sesgos de predicción o clasificación que favorezcan al grupo mayoritario ('Masculino'), perpetuando la discriminación.\"\n",
        "    }\n",
        "]\n",
        "\n",
        "metadata_empleados[\"acciones_mitigacion_sugeridas\"] = \"Si este fuera un dataset real y se fuera a usar para un modelo de impacto, se requeriría aplicar técnicas de balanceo de clases (oversampling, undersampling), ajustar pesos en el modelo o usar algoritmos conscientes de equidad (como los explorados por IBM AI Fairness 360 o Fairlearn de Microsoft) antes de entrenar un modelo.\"\n",
        "\n",
        "metadata_empleados[\"limitaciones_uso\"] = \"Este dataset *no* es representativo de la población laboral real y debe ser usado con extrema precaución. Su propósito es *demostrar* conceptos de sesgo y metadata, no para inferir patrones reales o para uso en sistemas productivos sin una validación exhaustiva.\""
      ],
      "metadata": {
        "id": "rIvocW5sWoKE"
      },
      "execution_count": 36,
      "outputs": []
    },
    {
      "cell_type": "code",
      "source": [
        "# Imprimimos la metadata en un formato legible (JSON indentado)\n",
        "print(\"\\n--- Metadata Generada para el Dataset Sintético ---\")\n",
        "print(json.dumps(metadata_empleados, indent=4, ensure_ascii=False))\n",
        "\n",
        "print(\"\\n--- ¡Fijate bien en la sección 'sesgos_conocidos_dataset' de la metadata! ---\")\n",
        "print(\"Ahí es donde documentamos el sesgo que introdujimos. Esto es CRÍTICO para la transparencia.\")"
      ],
      "metadata": {
        "colab": {
          "base_uri": "https://localhost:8080/"
        },
        "id": "7CkWMk85WrbQ",
        "outputId": "baa5d4ca-ba46-45fd-d775-c637ac39bc3a"
      },
      "execution_count": 37,
      "outputs": [
        {
          "output_type": "stream",
          "name": "stdout",
          "text": [
            "\n",
            "--- Metadata Generada para el Dataset Sintético ---\n",
            "{\n",
            "    \"nombre_dataset\": \"empleados_sinteticos_demo_sesgo_genero\",\n",
            "    \"descripcion\": \"Dataset de perfiles de empleados generado sintéticamente para fines educativos y demostración de sesgo algorítmico. NO CONTIENE DATOS REALES.\",\n",
            "    \"fuente_datos\": {\n",
            "        \"tipo\": \"Sintético\",\n",
            "        \"herramienta\": \"Faker vX.Y.Z (reemplazar X.Y.Z por la versión usada)\",\n",
            "        \"locale_faker\": \"es_AR\",\n",
            "        \"metodo_generacion\": \"Generación aleatoria de campos con distribución de género ajustada intencionalmente (70% Masculino / 30% Femenino).\"\n",
            "    },\n",
            "    \"fecha_creacion\": \"2025-06-18 00:24:52\",\n",
            "    \"ultima_modificacion\": \"2025-06-18 00:24:52\",\n",
            "    \"version\": \"1.0\",\n",
            "    \"licencia_uso\": \"Solo para fines educativos, investigación y desarrollo interno. NO para uso productivo o comercial. No usar para inferir patrones reales de empleo.\",\n",
            "    \"columnas\": [\n",
            "        {\n",
            "            \"nombre\": \"id_empleado\",\n",
            "            \"tipo\": \"string (UUID)\",\n",
            "            \"descripcion\": \"Identificador único de cada empleado. Generado aleatoriamente.\",\n",
            "            \"sensibilidad\": \"Baja (sintético, no real)\",\n",
            "            \"ejemplo_valor\": \"0bf9aefe-5a22-4b41-abd9-424c272c9e6b\"\n",
            "        },\n",
            "        {\n",
            "            \"nombre\": \"nombre\",\n",
            "            \"tipo\": \"string\",\n",
            "            \"descripcion\": \"Nombre de pila del empleado. Generado aleatoriamente según el género asignado.\",\n",
            "            \"sensibilidad\": \"Baja (sintético, no real)\",\n",
            "            \"ejemplo_valor\": \"Thiago\"\n",
            "        },\n",
            "        {\n",
            "            \"nombre\": \"apellido\",\n",
            "            \"tipo\": \"string\",\n",
            "            \"descripcion\": \"Apellido del empleado. Generado aleatoriamente.\",\n",
            "            \"sensibilidad\": \"Baja (sintético, no real)\",\n",
            "            \"ejemplo_valor\": \"Diaz\"\n",
            "        },\n",
            "        {\n",
            "            \"nombre\": \"genero_reportado\",\n",
            "            \"tipo\": \"string\",\n",
            "            \"descripcion\": \"Género autodeclarado del empleado. Campo con sesgo intencional para demostración.\",\n",
            "            \"sensibilidad\": \"Media (si fuera real, sería un dato personal sensible)\",\n",
            "            \"procesamiento\": \"Seleccionado aleatoriamente de ['Masculino', 'Femenino'] con probabilidad de 70% y 30% respectivamente.\",\n",
            "            \"distribucion_observada\": {\n",
            "                \"Masculino\": 38,\n",
            "                \"Femenino\": 12\n",
            "            },\n",
            "            \"advertencia_sesgo_campo\": \"Este campo introduce un sesgo de género en el dataset. Si se usa para entrenamiento de modelos, el modelo podría aprender a favorecer implícitamente al grupo mayoritario ('Masculino').\"\n",
            "        },\n",
            "        {\n",
            "            \"nombre\": \"rol\",\n",
            "            \"tipo\": \"string\",\n",
            "            \"descripcion\": \"Rol laboral del empleado en la empresa.\",\n",
            "            \"sensibilidad\": \"Baja\",\n",
            "            \"ejemplo_valor\": \"Especialista de RRHH\"\n",
            "        },\n",
            "        {\n",
            "            \"nombre\": \"salario\",\n",
            "            \"tipo\": \"float\",\n",
            "            \"descripcion\": \"Salario anual del empleado en moneda local.\",\n",
            "            \"sensibilidad\": \"Media (si fuera real, dato personal)\",\n",
            "            \"ejemplo_valor\": 183282.07\n",
            "        },\n",
            "        {\n",
            "            \"nombre\": \"departamento\",\n",
            "            \"tipo\": \"string\",\n",
            "            \"descripcion\": \"Departamento al que pertenece el empleado.\",\n",
            "            \"sensibilidad\": \"Baja\",\n",
            "            \"ejemplo_valor\": \"Marketing\"\n",
            "        },\n",
            "        {\n",
            "            \"nombre\": \"fecha_contratacion\",\n",
            "            \"tipo\": \"date\",\n",
            "            \"descripcion\": \"Fecha en que el empleado fue contratado.\",\n",
            "            \"sensibilidad\": \"Baja\",\n",
            "            \"ejemplo_valor\": \"2023-04-07\"\n",
            "        }\n",
            "    ],\n",
            "    \"sesgos_conocidos_dataset\": [\n",
            "        {\n",
            "            \"tipo_sesgo\": \"Sesgo de Proporción / Desbalance de Clase\",\n",
            "            \"campo_afectado\": \"genero_reportado\",\n",
            "            \"descripcion\": \"La distribución de género en este dataset está *intencionalmente desbalanceada* (aproximadamente 70% hombres, 30% mujeres) para fines de demostración. Esto simula cómo un sesgo histórico o de muestreo en datos reales podría influir en un modelo.\",\n",
            "            \"impacto_potencial\": \"Un modelo de aprendizaje automático (ej. para contratación, desempeño o promoción) entrenado con este dataset podría desarrollar sesgos de predicción o clasificación que favorezcan al grupo mayoritario ('Masculino'), perpetuando la discriminación.\"\n",
            "        }\n",
            "    ],\n",
            "    \"acciones_mitigacion_sugeridas\": \"Si este fuera un dataset real y se fuera a usar para un modelo de impacto, se requeriría aplicar técnicas de balanceo de clases (oversampling, undersampling), ajustar pesos en el modelo o usar algoritmos conscientes de equidad (como los explorados por IBM AI Fairness 360 o Fairlearn de Microsoft) antes de entrenar un modelo.\",\n",
            "    \"limitaciones_uso\": \"Este dataset *no* es representativo de la población laboral real y debe ser usado con extrema precaución. Su propósito es *demostrar* conceptos de sesgo y metadata, no para inferir patrones reales o para uso en sistemas productivos sin una validación exhaustiva.\"\n",
            "}\n",
            "\n",
            "--- ¡Fijate bien en la sección 'sesgos_conocidos_dataset' de la metadata! ---\n",
            "Ahí es donde documentamos el sesgo que introdujimos. Esto es CRÍTICO para la transparencia.\n"
          ]
        }
      ]
    },
    {
      "cell_type": "markdown",
      "metadata": {
        "id": "a5f45457"
      },
      "source": [
        "# Módulo 3: Conexión con la Gobernanza y el Combate al Sesgo\n",
        "\n",
        "¿Cómo se relaciona todo esto con la Gobernanza de la IA y el caso Amazon?\n",
        "\n",
        "1.  **El Problema de Amazon:**\n",
        "    Si Amazon hubiera tenido una Gobernanza de Datos robusta, habrían exigido metadata detallada para sus datos históricos de contratación. Esa metadata, como la que acabamos de crear, habría revelado el desbalance de género en sus datos.\n",
        "\n",
        "2.  **La Metadata como \"Alerta Temprana\":**\n",
        "    Al ver esa \"advertencia de sesgo\" en la metadata, el equipo habría podido:\n",
        "    *   Auditar los datos con herramientas especializadas (¡como las que vimos de IBM!).\n",
        "    *   Remediar el dataset (ej. balancearlo, si fuera posible, o ajustar técnicas de modelado).\n",
        "    *   Aplicar algoritmos conscientes de equidad.\n",
        "\n",
        "3.  **La Gobernanza es Prevención:**\n",
        "    Esto demuestra que la Gobernanza de la IA, a través de prácticas como la creación rigurosa de metadata y la trazabilidad, es una herramienta PREVENTIVA. Te permite \"diagnosticar\" problemas en tus datos antes de que se traduzcan en sesgos en tu modelo y causen daños en el mundo real.\n",
        "\n",
        "4.  **Tu Rol Fundamental:**\n",
        "    Como futuro profesional de la IA, tenés la capacidad de influir directamente. Cada decisión que tomes, desde cómo elegís tus datos, cómo los generás (si son sintéticos) y cómo documentás esa información con metadata, tiene un impacto ético."
      ]
    },
    {
      "cell_type": "markdown",
      "source": [
        "#PRACTICA\n"
      ],
      "metadata": {
        "id": "cudJbofBYD6X"
      }
    },
    {
      "cell_type": "markdown",
      "metadata": {
        "id": "3649438c"
      },
      "source": [
        "## Ejercicios Adicionales para Explorar\n",
        "\n",
        "*   Cambiá la distribución de género para que sea 50/50 y observá cómo cambia la metadata.\n",
        "*   Agregá otro tipo de sesgo, por ejemplo en los salarios según el género.\n",
        "*   Experimentá con otros campos como edad, experiencia laboral, etc.\n",
        "*   Investigá herramientas de detección de sesgo como IBM AI Fairness 360 o Fairlearn de Microsoft.\n",
        "*   Creá tu propia metadata para un dataset que uses en otro proyecto."
      ]
    },
    {
      "cell_type": "markdown",
      "source": [],
      "metadata": {
        "id": "tN0MS1cQYvi4"
      }
    },
    {
      "cell_type": "code",
      "execution_count": 38,
      "metadata": {
        "colab": {
          "base_uri": "https://localhost:8080/"
        },
        "outputId": "ec2fb76e-6085-4794-864f-e927ca2d6ac7",
        "id": "bXTVobfiZOzO"
      },
      "outputs": [
        {
          "output_type": "stream",
          "name": "stdout",
          "text": [
            "Librerías instaladas correctamente. ¡Listos para empezar!\n"
          ]
        }
      ],
      "source": [
        "# Paso 1: Instalamos las librerías necesarias\n",
        "# Si no las tenés instaladas en tu entorno de Colab, este comando las instala.\n",
        "\n",
        "!pip install Faker pandas -q\n",
        "\n",
        "print(\"Librerías instaladas correctamente. ¡Listos para empezar!\")"
      ]
    },
    {
      "cell_type": "code",
      "source": [
        "# Paso 2: Importamos lo que vamos a usar\n",
        "# Faker: Para generar datos falsos (sintéticos) pero con aspecto real.\n",
        "# pandas: Para manejar los datos en un formato de tabla (DataFrame).\n",
        "# json: Para trabajar con la metadata en formato JSON, que es un estándar para intercambiar información.\n",
        "\n",
        "from faker import Faker\n",
        "import pandas as pd\n",
        "import random\n",
        "import json\n",
        "import datetime\n",
        "\n",
        "print(\"Librerías importadas.\")"
      ],
      "metadata": {
        "colab": {
          "base_uri": "https://localhost:8080/"
        },
        "outputId": "4749a435-8064-4fef-e13e-053c54105174",
        "id": "ZXO8em7BZOzQ"
      },
      "execution_count": 39,
      "outputs": [
        {
          "output_type": "stream",
          "name": "stdout",
          "text": [
            "Librerías importadas.\n"
          ]
        }
      ]
    },
    {
      "cell_type": "code",
      "source": [
        "# Paso 3: Inicializamos Faker\n",
        "# Acá le decimos a Faker que genere datos con estilo argentino (es_AR).\n",
        "# Esto es genial para que los ejemplos se sientan más cercanos.\n",
        "\n",
        "fake2 = Faker('es_AR')\n",
        "\n",
        "print(f\"Faker inicializado con locale '{fake2.locale}'.\")"
      ],
      "metadata": {
        "colab": {
          "base_uri": "https://localhost:8080/"
        },
        "outputId": "b54f2a5f-91ff-40e1-e46e-a8806eb82e28",
        "id": "lIhf1iTMZOzR"
      },
      "execution_count": 40,
      "outputs": [
        {
          "output_type": "stream",
          "name": "stdout",
          "text": [
            "Faker inicializado con locale '<bound method BaseProvider.locale of <faker.providers.user_agent.Provider object at 0x7b3ff9b29850>>'.\n"
          ]
        }
      ]
    },
    {
      "cell_type": "code",
      "source": [
        "num_records2 = 50 # Un buen número para la demo\n",
        "\n",
        "data_empleados2 = []\n",
        "roles_disponibles2 = ['Desarrollador', 'Gerente de Proyectos', 'Analista de Datos', 'Diseñador UX', 'Especialista de RRHH', 'Contador', 'Asistente Administrativo']\n",
        "departamentos_disponibles2 = ['IT', 'Ventas', 'Marketing', 'Finanzas', 'RRHH', 'Operaciones']\n",
        "\n"
      ],
      "metadata": {
        "id": "LlzSPqRPZOzT"
      },
      "execution_count": 41,
      "outputs": []
    },
    {
      "cell_type": "code",
      "source": [
        "# Definimos una distribución sesgada para el género: 50% Masculino, 50% Femenino\n",
        "# Esto se hace repitiendo 'Masculino' 7 veces y 'Femenino' 3 veces en la lista.\n",
        "generos_con_sesgo2 = ['Masculino'] * 5 + ['Femenino'] * 5\n",
        "\n",
        "print(f\"Generando {num_records2} registros de empleados. Atento al sesgo de género intencional.\")"
      ],
      "metadata": {
        "colab": {
          "base_uri": "https://localhost:8080/"
        },
        "id": "bCnaI_POZh1Y",
        "outputId": "bd7b0b7c-e97f-4638-d049-ceaf80fa7e16"
      },
      "execution_count": 42,
      "outputs": [
        {
          "output_type": "stream",
          "name": "stdout",
          "text": [
            "Generando 50 registros de empleados. Atento al sesgo de género intencional.\n"
          ]
        }
      ]
    },
    {
      "cell_type": "code",
      "source": [
        "for i in range(num_records2):\n",
        "    # Elegimos el género según nuestra distribución sesgada\n",
        "    genero_elegido2 = random.choice(generos_con_sesgo2)\n",
        "\n",
        "    # Asignamos el nombre según el género\n",
        "    if genero_elegido2 == 'Masculino':\n",
        "        nombre2 = fake2.first_name_male()\n",
        "    elif genero_elegido2 == 'Femenino':\n",
        "        nombre2 = fake2.first_name_female()\n",
        "    else: # Por si agregamos más géneros en el futuro\n",
        "        nombre2 = fake2.first_name()\n",
        "\n",
        "    data_empleados2.append({\n",
        "        'id_empleado': fake.unique.uuid4(), # ID único\n",
        "        'nombre': nombre2,\n",
        "        'apellido': fake2.last_name(),\n",
        "        'genero_reportado': genero_elegido2, # Campo con el sesgo\n",
        "        'rol': random.choice(roles_disponibles2),\n",
        "        'salario': round(random.uniform(70000, 250000), 2), # Salarios aleatorios\n",
        "        'departamento': random.choice(departamentos_disponibles2),\n",
        "        'fecha_contratacion': fake2.date_this_decade() # Fecha dentro de los últimos 10 años\n",
        "    })\n",
        "\n",
        "# Convertimos la lista de diccionarios a un DataFrame de Pandas para un manejo más fácil\n",
        "df_empleados2 = pd.DataFrame(data_empleados2)\n",
        "\n",
        "print(\"\\n--- Dataset Sintético de Empleados Generado ---\")"
      ],
      "metadata": {
        "colab": {
          "base_uri": "https://localhost:8080/"
        },
        "outputId": "ad941235-9ee3-4b17-9d18-69ef8bf6fc4d",
        "id": "lN56WIcFZOzU"
      },
      "execution_count": 43,
      "outputs": [
        {
          "output_type": "stream",
          "name": "stdout",
          "text": [
            "\n",
            "--- Dataset Sintético de Empleados Generado ---\n"
          ]
        }
      ]
    },
    {
      "cell_type": "code",
      "source": [
        "# Mostramos las primeras filas para que vean cómo quedó\n",
        "#print(df_empleados2.head())\n",
        "\n",
        "print(\"\\n--- Distribución del Género Reportado (¡Atento al Sesgo!) ---\")\n",
        "# Contamos cuántos registros hay de cada género para confirmar el sesgo\n",
        "print(df_empleados2['genero_reportado'].value_counts())"
      ],
      "metadata": {
        "colab": {
          "base_uri": "https://localhost:8080/"
        },
        "outputId": "f3e8591c-94f4-4885-8566-1d5c5374e410",
        "id": "Gs5Fz5VkZOzV"
      },
      "execution_count": 44,
      "outputs": [
        {
          "output_type": "stream",
          "name": "stdout",
          "text": [
            "\n",
            "--- Distribución del Género Reportado (¡Atento al Sesgo!) ---\n",
            "genero_reportado\n",
            "Masculino    25\n",
            "Femenino     25\n",
            "Name: count, dtype: int64\n"
          ]
        }
      ]
    },
    {
      "cell_type": "code",
      "source": [
        "metadata_empleados2 = {\n",
        "    \"nombre_dataset\": \"empleados_sinteticos_demo_sesgo_genero\",\n",
        "    \"descripcion\": \"Dataset de perfiles de empleados generado sintéticamente para fines educativos y demostración de sesgo algorítmico. NO CONTIENE DATOS REALES.\",\n",
        "    \"fuente_datos\": {\n",
        "        \"tipo\": \"Sintético\",\n",
        "        \"herramienta\": \"Faker vX.Y.Z (reemplazar X.Y.Z por la versión usada)\",\n",
        "        \"locale_faker\": \"es_AR\",\n",
        "        \"metodo_generacion\": \"Generación aleatoria de campos con distribución de género ajustada intencionalmente (70% Masculino / 30% Femenino).\"\n",
        "    },\n",
        "    \"fecha_creacion\": datetime.datetime.now().strftime(\"%Y-%m-%d %H:%M:%S\"),\n",
        "    \"ultima_modificacion\": datetime.datetime.now().strftime(\"%Y-%m-%d %H:%M:%S\"),\n",
        "    \"version\": \"1.0\",\n",
        "    \"licencia_uso\": \"Solo para fines educativos, investigación y desarrollo interno. NO para uso productivo o comercial. No usar para inferir patrones reales de empleo.\"\n",
        "}"
      ],
      "metadata": {
        "id": "zh0y-VltbGFb"
      },
      "execution_count": 45,
      "outputs": []
    },
    {
      "cell_type": "code",
      "source": [
        "metadata_empleados2[\"columnas\"] = [\n",
        "    {\n",
        "        \"nombre\": \"id_empleado\",\n",
        "        \"tipo\": \"string (UUID)\",\n",
        "        \"descripcion\": \"Identificador único de cada empleado. Generado aleatoriamente.\",\n",
        "        \"sensibilidad\": \"Baja (sintético, no real)\",\n",
        "        \"ejemplo_valor\": df_empleados2['id_empleado'].iloc[0]\n",
        "    },\n",
        "    {\n",
        "        \"nombre\": \"nombre\",\n",
        "        \"tipo\": \"string\",\n",
        "        \"descripcion\": \"Nombre de pila del empleado. Generado aleatoriamente según el género asignado.\",\n",
        "        \"sensibilidad\": \"Baja (sintético, no real)\",\n",
        "        \"ejemplo_valor\": df_empleados2['nombre'].iloc[0]\n",
        "    },\n",
        "    {\n",
        "        \"nombre\": \"apellido\",\n",
        "        \"tipo\": \"string\",\n",
        "        \"descripcion\": \"Apellido del empleado. Generado aleatoriamente.\",\n",
        "        \"sensibilidad\": \"Baja (sintético, no real)\",\n",
        "        \"ejemplo_valor\": df_empleados2['apellido'].iloc[0]\n",
        "    },\n",
        "    {\n",
        "        \"nombre\": \"genero_reportado\",\n",
        "        \"tipo\": \"string\",\n",
        "        \"descripcion\": \"Género autodeclarado del empleado. Campo con sesgo intencional para demostración.\",\n",
        "        \"sensibilidad\": \"Media (si fuera real, sería un dato personal sensible)\",\n",
        "        \"procesamiento\": \"Seleccionado aleatoriamente de ['Masculino', 'Femenino'] con probabilidad de 70% y 30% respectivamente.\",\n",
        "        \"distribucion_observada\": df_empleados2['genero_reportado'].value_counts().to_dict(),\n",
        "        \"advertencia_sesgo_campo\": \"Este campo introduce un sesgo de género en el dataset. Si se usa para entrenamiento de modelos, el modelo podría aprender a favorecer implícitamente al grupo mayoritario ('Masculino').\"\n",
        "    }\n",
        "]"
      ],
      "metadata": {
        "id": "jM1peGRyZOzY"
      },
      "execution_count": 46,
      "outputs": []
    },
    {
      "cell_type": "code",
      "source": [
        "# Continuamos con el resto de columnas\n",
        "metadata_empleados2[\"columnas\"].extend([\n",
        "    {\n",
        "        \"nombre\": \"rol\",\n",
        "        \"tipo\": \"string\",\n",
        "        \"descripcion\": \"Rol laboral del empleado en la empresa.\",\n",
        "        \"sensibilidad\": \"Baja\",\n",
        "        \"ejemplo_valor\": df_empleados2['rol'].iloc[0]\n",
        "    },\n",
        "    {\n",
        "        \"nombre\": \"salario\",\n",
        "        \"tipo\": \"float\",\n",
        "        \"descripcion\": \"Salario anual del empleado en moneda local.\",\n",
        "        \"sensibilidad\": \"Media (si fuera real, dato personal)\",\n",
        "        \"ejemplo_valor\": df_empleados2['salario'].iloc[0]\n",
        "    },\n",
        "    {\n",
        "        \"nombre\": \"departamento\",\n",
        "        \"tipo\": \"string\",\n",
        "        \"descripcion\": \"Departamento al que pertenece el empleado.\",\n",
        "        \"sensibilidad\": \"Baja\",\n",
        "        \"ejemplo_valor\": df_empleados2['departamento'].iloc[0]\n",
        "    },\n",
        "    {\n",
        "        \"nombre\": \"fecha_contratacion\",\n",
        "        \"tipo\": \"date\",\n",
        "        \"descripcion\": \"Fecha en que el empleado fue contratado.\",\n",
        "        \"sensibilidad\": \"Baja\",\n",
        "        \"ejemplo_valor\": str(df_empleados2['fecha_contratacion'].iloc[0])\n",
        "    }\n",
        "])"
      ],
      "metadata": {
        "id": "_HN9r-sDZOzZ"
      },
      "execution_count": 47,
      "outputs": []
    },
    {
      "cell_type": "code",
      "source": [
        "# Agregamos la información crítica sobre sesgos conocidos\n",
        "metadata_empleados2[\"sesgos_conocidos_dataset\"] = [\n",
        "    {\n",
        "        \"tipo_sesgo\": \"Sesgo de Proporción / Desbalance de Clase\",\n",
        "        \"campo_afectado\": \"genero_reportado\",\n",
        "        \"descripcion\": \"La distribución de género en este dataset está *intencionalmente desbalanceada* (aproximadamente 70% hombres, 30% mujeres) para fines de demostración. Esto simula cómo un sesgo histórico o de muestreo en datos reales podría influir en un modelo.\",\n",
        "        \"impacto_potencial\": \"Un modelo de aprendizaje automático (ej. para contratación, desempeño o promoción) entrenado con este dataset podría desarrollar sesgos de predicción o clasificación que favorezcan al grupo mayoritario ('Masculino'), perpetuando la discriminación.\"\n",
        "    }\n",
        "]\n",
        "\n",
        "metadata_empleados2[\"acciones_mitigacion_sugeridas\"] = \"Si este fuera un dataset real y se fuera a usar para un modelo de impacto, se requeriría aplicar técnicas de balanceo de clases (oversampling, undersampling), ajustar pesos en el modelo o usar algoritmos conscientes de equidad (como los explorados por IBM AI Fairness 360 o Fairlearn de Microsoft) antes de entrenar un modelo.\"\n",
        "\n",
        "metadata_empleados2[\"limitaciones_uso\"] = \"Este dataset *no* es representativo de la población laboral real y debe ser usado con extrema precaución. Su propósito es *demostrar* conceptos de sesgo y metadata, no para inferir patrones reales o para uso en sistemas productivos sin una validación exhaustiva.\""
      ],
      "metadata": {
        "id": "HoTAEQK_ZOza"
      },
      "execution_count": 48,
      "outputs": []
    },
    {
      "cell_type": "code",
      "source": [
        "# Imprimimos la metadata en un formato legible (JSON indentado)\n",
        "print(\"\\n--- Metadata Generada para el Dataset Sintético ---\")\n",
        "print(json.dumps(metadata_empleados2, indent=4, ensure_ascii=False))\n",
        "\n",
        "print(\"\\n--- ¡Fijate bien en la sección 'sesgos_conocidos_dataset' de la metadata! ---\")\n",
        "print(\"Ahí es donde documentamos el sesgo que introdujimos. Esto es CRÍTICO para la transparencia.\")"
      ],
      "metadata": {
        "colab": {
          "base_uri": "https://localhost:8080/"
        },
        "outputId": "cb5e0058-06ad-4246-dfe5-009565148da9",
        "id": "9-bzK2nBZOza"
      },
      "execution_count": 49,
      "outputs": [
        {
          "output_type": "stream",
          "name": "stdout",
          "text": [
            "\n",
            "--- Metadata Generada para el Dataset Sintético ---\n",
            "{\n",
            "    \"nombre_dataset\": \"empleados_sinteticos_demo_sesgo_genero\",\n",
            "    \"descripcion\": \"Dataset de perfiles de empleados generado sintéticamente para fines educativos y demostración de sesgo algorítmico. NO CONTIENE DATOS REALES.\",\n",
            "    \"fuente_datos\": {\n",
            "        \"tipo\": \"Sintético\",\n",
            "        \"herramienta\": \"Faker vX.Y.Z (reemplazar X.Y.Z por la versión usada)\",\n",
            "        \"locale_faker\": \"es_AR\",\n",
            "        \"metodo_generacion\": \"Generación aleatoria de campos con distribución de género ajustada intencionalmente (70% Masculino / 30% Femenino).\"\n",
            "    },\n",
            "    \"fecha_creacion\": \"2025-06-18 00:24:58\",\n",
            "    \"ultima_modificacion\": \"2025-06-18 00:24:58\",\n",
            "    \"version\": \"1.0\",\n",
            "    \"licencia_uso\": \"Solo para fines educativos, investigación y desarrollo interno. NO para uso productivo o comercial. No usar para inferir patrones reales de empleo.\",\n",
            "    \"columnas\": [\n",
            "        {\n",
            "            \"nombre\": \"id_empleado\",\n",
            "            \"tipo\": \"string (UUID)\",\n",
            "            \"descripcion\": \"Identificador único de cada empleado. Generado aleatoriamente.\",\n",
            "            \"sensibilidad\": \"Baja (sintético, no real)\",\n",
            "            \"ejemplo_valor\": \"7cb257fd-da7b-45cb-865d-8da24325099a\"\n",
            "        },\n",
            "        {\n",
            "            \"nombre\": \"nombre\",\n",
            "            \"tipo\": \"string\",\n",
            "            \"descripcion\": \"Nombre de pila del empleado. Generado aleatoriamente según el género asignado.\",\n",
            "            \"sensibilidad\": \"Baja (sintético, no real)\",\n",
            "            \"ejemplo_valor\": \"Guadalupe\"\n",
            "        },\n",
            "        {\n",
            "            \"nombre\": \"apellido\",\n",
            "            \"tipo\": \"string\",\n",
            "            \"descripcion\": \"Apellido del empleado. Generado aleatoriamente.\",\n",
            "            \"sensibilidad\": \"Baja (sintético, no real)\",\n",
            "            \"ejemplo_valor\": \"Gonzalez\"\n",
            "        },\n",
            "        {\n",
            "            \"nombre\": \"genero_reportado\",\n",
            "            \"tipo\": \"string\",\n",
            "            \"descripcion\": \"Género autodeclarado del empleado. Campo con sesgo intencional para demostración.\",\n",
            "            \"sensibilidad\": \"Media (si fuera real, sería un dato personal sensible)\",\n",
            "            \"procesamiento\": \"Seleccionado aleatoriamente de ['Masculino', 'Femenino'] con probabilidad de 70% y 30% respectivamente.\",\n",
            "            \"distribucion_observada\": {\n",
            "                \"Masculino\": 25,\n",
            "                \"Femenino\": 25\n",
            "            },\n",
            "            \"advertencia_sesgo_campo\": \"Este campo introduce un sesgo de género en el dataset. Si se usa para entrenamiento de modelos, el modelo podría aprender a favorecer implícitamente al grupo mayoritario ('Masculino').\"\n",
            "        },\n",
            "        {\n",
            "            \"nombre\": \"rol\",\n",
            "            \"tipo\": \"string\",\n",
            "            \"descripcion\": \"Rol laboral del empleado en la empresa.\",\n",
            "            \"sensibilidad\": \"Baja\",\n",
            "            \"ejemplo_valor\": \"Desarrollador\"\n",
            "        },\n",
            "        {\n",
            "            \"nombre\": \"salario\",\n",
            "            \"tipo\": \"float\",\n",
            "            \"descripcion\": \"Salario anual del empleado en moneda local.\",\n",
            "            \"sensibilidad\": \"Media (si fuera real, dato personal)\",\n",
            "            \"ejemplo_valor\": 90274.0\n",
            "        },\n",
            "        {\n",
            "            \"nombre\": \"departamento\",\n",
            "            \"tipo\": \"string\",\n",
            "            \"descripcion\": \"Departamento al que pertenece el empleado.\",\n",
            "            \"sensibilidad\": \"Baja\",\n",
            "            \"ejemplo_valor\": \"Operaciones\"\n",
            "        },\n",
            "        {\n",
            "            \"nombre\": \"fecha_contratacion\",\n",
            "            \"tipo\": \"date\",\n",
            "            \"descripcion\": \"Fecha en que el empleado fue contratado.\",\n",
            "            \"sensibilidad\": \"Baja\",\n",
            "            \"ejemplo_valor\": \"2022-01-08\"\n",
            "        }\n",
            "    ],\n",
            "    \"sesgos_conocidos_dataset\": [\n",
            "        {\n",
            "            \"tipo_sesgo\": \"Sesgo de Proporción / Desbalance de Clase\",\n",
            "            \"campo_afectado\": \"genero_reportado\",\n",
            "            \"descripcion\": \"La distribución de género en este dataset está *intencionalmente desbalanceada* (aproximadamente 70% hombres, 30% mujeres) para fines de demostración. Esto simula cómo un sesgo histórico o de muestreo en datos reales podría influir en un modelo.\",\n",
            "            \"impacto_potencial\": \"Un modelo de aprendizaje automático (ej. para contratación, desempeño o promoción) entrenado con este dataset podría desarrollar sesgos de predicción o clasificación que favorezcan al grupo mayoritario ('Masculino'), perpetuando la discriminación.\"\n",
            "        }\n",
            "    ],\n",
            "    \"acciones_mitigacion_sugeridas\": \"Si este fuera un dataset real y se fuera a usar para un modelo de impacto, se requeriría aplicar técnicas de balanceo de clases (oversampling, undersampling), ajustar pesos en el modelo o usar algoritmos conscientes de equidad (como los explorados por IBM AI Fairness 360 o Fairlearn de Microsoft) antes de entrenar un modelo.\",\n",
            "    \"limitaciones_uso\": \"Este dataset *no* es representativo de la población laboral real y debe ser usado con extrema precaución. Su propósito es *demostrar* conceptos de sesgo y metadata, no para inferir patrones reales o para uso en sistemas productivos sin una validación exhaustiva.\"\n",
            "}\n",
            "\n",
            "--- ¡Fijate bien en la sección 'sesgos_conocidos_dataset' de la metadata! ---\n",
            "Ahí es donde documentamos el sesgo que introdujimos. Esto es CRÍTICO para la transparencia.\n"
          ]
        }
      ]
    }
  ]
}